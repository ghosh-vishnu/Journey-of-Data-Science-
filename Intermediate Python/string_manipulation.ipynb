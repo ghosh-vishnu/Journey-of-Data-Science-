{
 "cells": [
  {
   "cell_type": "markdown",
   "metadata": {},
   "source": [
    "### 🚀 String Manipulation in Python (Intermediate Level) 🔥   \n",
    "Strings Python me immutable hote hain, matlab unko directly modify nahi kiya ja sakta. But hum slicing, built-in methods aur formatting se strings ko manipulate kar sakte hain!\n",
    "\n"
   ]
  },
  {
   "cell_type": "markdown",
   "metadata": {},
   "source": [
    "📌 1. String Slicing\n",
    "String slicing ka use substring nikalne ke liye hota hai.\n",
    "\n",
    "📌 Syntax:\n"
   ]
  },
  {
   "cell_type": "markdown",
   "metadata": {},
   "source": [
    "string[start:end:step]\n",
    "\n",
    "start → kaha se start karna hai (default: 0)\n",
    "\n",
    "end → kaha tak lena hai (exclude hota hai)\n",
    "\n",
    "step → kitne steps ka gap rakhna hai (default: 1)"
   ]
  },
  {
   "cell_type": "code",
   "execution_count": 2,
   "metadata": {},
   "outputs": [
    {
     "name": "stdout",
     "output_type": "stream",
     "text": [
      "Python\n",
      "Python\n",
      "Programming\n",
      "PtoPormig\n",
      "gnimmargorPnohtyP\n"
     ]
    }
   ],
   "source": [
    "text = \"PythonProgramming\"\n",
    "print(text[0:6])    # Python\n",
    "print(text[:6])     # Python  (start default: 0)\n",
    "print(text[6:])     # Programming  (end default: last)\n",
    "print(text[::2])    # PtoPormig (alternate characters)\n",
    "print(text[::-1])   # gnimmargorPnohtyP (Reverse)\n"
   ]
  },
  {
   "cell_type": "markdown",
   "metadata": {},
   "source": [
    "📌 2. Important String Methods     \n",
    "Python me strings ke saath kaam karne ke liye bahut saare built-in methods hote hain."
   ]
  },
  {
   "cell_type": "markdown",
   "metadata": {},
   "source": [
    "Method\t                                   Description\n",
    "lower()\t                                Sabko lowercase me convert karega                  \n",
    "upper()\t                                Sabko uppercase me convert karega                      \n",
    "strip()\t                                Start aur end ke spaces remove karega                         \n",
    "replace()\t                            Ek substring ko doosre se replace karega                        \n",
    "split()\t                                String ko list me tod dega                       \n",
    "join()\t                                List ko string me convert karega                           \n",
    "startswith()\t                        Koi word ya char start me hai ya nahi check karega                      \n",
    "endswith()\t                            Koi word ya char end me hai ya nahi check karega                         \n",
    "find()\t---------------------------------Substring ki position return karega (agar nahi mili to -1)                            "
   ]
  },
  {
   "cell_type": "code",
   "execution_count": 5,
   "metadata": {},
   "outputs": [
    {
     "name": "stdout",
     "output_type": "stream",
     "text": [
      "  hello, vishnu!  \n",
      "  HELLO, VISHNU!  \n",
      "Hello, Vishnu!\n",
      "  Hello, Python!  \n",
      "['  Hello', ' Vishnu!  ']\n",
      "Python-Is-Fun\n",
      "False\n",
      "False\n",
      "9\n"
     ]
    }
   ],
   "source": [
    "s = \"  Hello, Vishnu!  \"\n",
    "print(s.lower())    # \"  hello, vishnu!  \"\n",
    "print(s.upper())    # \"  HELLO, VISHNU!  \"\n",
    "print(s.strip())    # \"Hello, Vishnu!\"\n",
    "print(s.replace(\"Vishnu\", \"Python\"))  # \"  Hello, Python!  \"\n",
    "print(s.split(\",\"))  # ['  Hello', ' Vishnu!  ']\n",
    "print(\"-\".join([\"Python\", \"Is\", \"Fun\"]))  # \"Python-Is-Fun\"\n",
    "print(s.startswith(\"Hello\"))  # False\n",
    "print(s.endswith(\"!\"))  # True\n",
    "print(s.find(\"Vishnu\"))  # 9\n"
   ]
  },
  {
   "cell_type": "markdown",
   "metadata": {},
   "source": [
    "### 📌 3. F-Strings (Formatted Strings)                     \n",
    "F-strings Python 3.6+ me aaye the aur ye sabse best way hai string formatting ka!\n",
    "\n",
    "🔹 Example 3: Basic F-String Usage"
   ]
  },
  {
   "cell_type": "code",
   "execution_count": 6,
   "metadata": {},
   "outputs": [
    {
     "name": "stdout",
     "output_type": "stream",
     "text": [
      "My name is Vishnu and I am 25 years old.\n"
     ]
    }
   ],
   "source": [
    "name = \"Vishnu\"\n",
    "age = 25\n",
    "print(f\"My name is {name} and I am {age} years old.\")\n"
   ]
  },
  {
   "cell_type": "code",
   "execution_count": 8,
   "metadata": {},
   "outputs": [
    {
     "name": "stdout",
     "output_type": "stream",
     "text": [
      "The sum of 5 and 10 is 15.\n"
     ]
    }
   ],
   "source": [
    "a = 5\n",
    "b = 10\n",
    "print(f\"The sum of {a} and {b} is {a + b}.\")\n"
   ]
  },
  {
   "cell_type": "code",
   "execution_count": 9,
   "metadata": {},
   "outputs": [
    {
     "name": "stdout",
     "output_type": "stream",
     "text": [
      "Price: 50.00\n"
     ]
    }
   ],
   "source": [
    "price = 49.9999\n",
    "print(f\"Price: {price:.2f}\")  # Decimal places fix karna\n"
   ]
  },
  {
   "cell_type": "code",
   "execution_count": null,
   "metadata": {},
   "outputs": [],
   "source": []
  }
 ],
 "metadata": {
  "kernelspec": {
   "display_name": "Python 3",
   "language": "python",
   "name": "python3"
  },
  "language_info": {
   "codemirror_mode": {
    "name": "ipython",
    "version": 3
   },
   "file_extension": ".py",
   "mimetype": "text/x-python",
   "name": "python",
   "nbconvert_exporter": "python",
   "pygments_lexer": "ipython3",
   "version": "3.9.7"
  }
 },
 "nbformat": 4,
 "nbformat_minor": 2
}
