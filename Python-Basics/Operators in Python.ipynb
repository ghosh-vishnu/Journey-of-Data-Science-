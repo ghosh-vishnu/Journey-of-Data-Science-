{
 "cells": [
  {
   "cell_type": "markdown",
   "metadata": {},
   "source": [
    "### Operators ka use values aur variables ke beech operations perform karne ke liye hota hai. Python me 6 types ke operators hote hain:\n",
    "\n",
    "Arithmetic Operators (Mathematical calculations)\n",
    "\n",
    "Comparison Operators (Values compare karna)\n",
    "\n",
    "Logical Operators (AND, OR, NOT)\n",
    "\n",
    "Bitwise Operators (Binary level operations)\n",
    "\n",
    "Assignment Operators (Values assign karna)\n",
    "\n",
    "Identity & Membership Operators (Special conditions check karna)"
   ]
  },
  {
   "cell_type": "markdown",
   "metadata": {},
   "source": [
    "🔹 1. Arithmetic Operators ( गणित वाले )\n",
    "✅ Yeh mathematical operations ke liye use hote hain:\n",
    "\n",
    "Operator\t      Meaning\t                           Example\n",
    "+\t               Addition (जोड़)\t                    a + b  \n",
    "-\t               Subtraction (घटाना)\t                a - b   \n",
    "*\t               Multiplication (गुणा)\t            a * b    \n",
    "/\t               Division (भाग)                    \ta / b (float result)   \n",
    "//\t                Floor Division (पूर्णांक भागफल)      \ta // b (integer result)    \n",
    "%\t                Modulus (शेषफल)\t                    a % b     \n",
    "**\t                Exponentiation (घातांक)\t            a ** b      "
   ]
  },
  {
   "cell_type": "markdown",
   "metadata": {},
   "source": [
    "#### Example"
   ]
  },
  {
   "cell_type": "code",
   "execution_count": 1,
   "metadata": {},
   "outputs": [
    {
     "name": "stdout",
     "output_type": "stream",
     "text": [
      "13\n",
      "7\n",
      "30\n",
      "3.3333333333333335\n",
      "3\n",
      "1\n",
      "1000\n"
     ]
    }
   ],
   "source": [
    "a = 10\n",
    "b = 3\n",
    "\n",
    "print(a + b)  # 13\n",
    "print(a - b)  # 7\n",
    "print(a * b)  # 30\n",
    "print(a / b)  # 3.3333\n",
    "print(a // b) # 3\n",
    "print(a % b)  # 1\n",
    "print(a ** b) # 1000 (10^3)\n"
   ]
  },
  {
   "cell_type": "markdown",
   "metadata": {},
   "source": [
    "#### 🔹 2. Comparison Operators (तुलना करने वाले)  \n",
    "\n",
    "Operator  \t                Meaning  \t                                    Example  \n",
    "==\t                        Equal to\t                                  a == b   \n",
    "!=\t                        Not equal to\t                               a != b    \n",
    ">\t                        Greater than\t                               a > b    \n",
    "<\t                        Less than\t                                  a < b    \n",
    ">=\t                        Greater than or equal to\t                  a >= b    \n",
    "<=\t                        Less than or equal to\t                      a <= b   "
   ]
  },
  {
   "cell_type": "code",
   "execution_count": 2,
   "metadata": {},
   "outputs": [
    {
     "name": "stdout",
     "output_type": "stream",
     "text": [
      "False\n",
      "True\n",
      "True\n",
      "False\n",
      "True\n",
      "False\n"
     ]
    }
   ],
   "source": [
    "x = 10\n",
    "y = 5\n",
    "\n",
    "print(x == y)  # False\n",
    "print(x != y)  # True\n",
    "print(x > y)   # True\n",
    "print(x < y)   # False\n",
    "print(x >= y)  # True\n",
    "print(x <= y)  # False\n"
   ]
  },
  {
   "cell_type": "markdown",
   "metadata": {},
   "source": [
    "#### 🔹 3. Logical Operators (AND, OR, NOT)"
   ]
  },
  {
   "cell_type": "markdown",
   "metadata": {},
   "source": [
    "✅ Yeh multiple conditions ko check karne ke liye hote hain:\n",
    "\n",
    "Operator\t                 Meaning\t                                        Example  \n",
    "and\t                 True if both conditions are True\t                    a > 5 and b < 10  \n",
    "or\t                True if at least one condition is True\t                a > 5 or b < 3  \n",
    "not\t                      Inverts the condition\t                                not(a > 5)  "
   ]
  },
  {
   "cell_type": "code",
   "execution_count": 3,
   "metadata": {},
   "outputs": [
    {
     "name": "stdout",
     "output_type": "stream",
     "text": [
      "True\n",
      "True\n",
      "False\n"
     ]
    }
   ],
   "source": [
    "a = 10\n",
    "b = 5\n",
    "\n",
    "print(a > 5 and b < 10)  # True\n",
    "print(a > 5 or b > 10)   # True\n",
    "print(not(a > 5))        # False\n"
   ]
  },
  {
   "cell_type": "markdown",
   "metadata": {},
   "source": [
    "#### 🔹 4. Bitwise Operators (Binary level operations)\n",
    "\n",
    "\n",
    "✅ Yeh binary numbers (0s & 1s) par operations karne ke liye use hote hain:\n",
    "\n",
    "Operator\t                Meaning\t                                    Example\n",
    "&\t                        AND                                     \ta & b\n",
    "`\t                         `\t                                          OR\n",
    "^\t                        XOR\t                                         a ^ b \n",
    "~\t                        NOT\t                                            ~a   \n",
    "<<\t                        Left Shift\t                                    a << 2    \n",
    ">>\t                        Right Shift\t                                    a >> 2   "
   ]
  },
  {
   "cell_type": "code",
   "execution_count": 4,
   "metadata": {},
   "outputs": [
    {
     "name": "stdout",
     "output_type": "stream",
     "text": [
      "1\n",
      "7\n",
      "6\n",
      "-6\n",
      "20\n",
      "1\n"
     ]
    }
   ],
   "source": [
    "a = 5  # 101 in binary\n",
    "b = 3  # 011 in binary\n",
    "\n",
    "print(a & b)  # 1  (001)\n",
    "print(a | b)  # 7  (111)\n",
    "print(a ^ b)  # 6  (110)\n",
    "print(~a)     # -6\n",
    "print(a << 2) # 20 (10100)\n",
    "print(a >> 2) # 1  (001)\n"
   ]
  },
  {
   "cell_type": "markdown",
   "metadata": {},
   "source": [
    "##### 🔹 5. Assignment Operators (Values assign karne ke liye)"
   ]
  },
  {
   "cell_type": "markdown",
   "metadata": {},
   "source": [
    "✅ Yeh values ko variables me assign karne ke liye hote hain:\n",
    "\n",
    "Operator\t                Meaning                       \tExample                        \n",
    "=\t                        Assign\t                        a = 5            \n",
    "+=\t                       Add and assign\t                a += 5 (a = a + 5)                 \n",
    "-=\t                       Subtract and assign\t            a -= 5 (a = a - 5)                       \n",
    "*=\t                       Multiply and assign\t            a *= 5                       \n",
    "/=\t                       Divide and assign\t              a /= 5                       \n",
    "%=\t                       Modulus and assign\t                a %= 5                          \n",
    "**=\t                        Exponent and assign\t               a **= 5                          "
   ]
  },
  {
   "cell_type": "code",
   "execution_count": 5,
   "metadata": {},
   "outputs": [
    {
     "name": "stdout",
     "output_type": "stream",
     "text": [
      "15\n",
      "10.0\n"
     ]
    }
   ],
   "source": [
    "a = 10\n",
    "a += 5   # a = a + 5\n",
    "print(a) # 15\n",
    "\n",
    "b = 20\n",
    "b /= 2   # b = b / 2\n",
    "print(b) # 10.0\n"
   ]
  },
  {
   "cell_type": "markdown",
   "metadata": {},
   "source": [
    "### 🔹 6. Identity & Membership Operators\n",
    "\n",
    "✅ Identity Operators (is, is not)                    \n",
    "Yeh check karte hain ki do variables same memory location ko point kar rahe hain ya nahi."
   ]
  },
  {
   "cell_type": "code",
   "execution_count": 6,
   "metadata": {},
   "outputs": [
    {
     "name": "stdout",
     "output_type": "stream",
     "text": [
      "False\n",
      "True\n",
      "True\n"
     ]
    }
   ],
   "source": [
    "x = [1, 2, 3]\n",
    "y = [1, 2, 3]\n",
    "z = x\n",
    "\n",
    "print(x is y)  # False (kyunki dono alag objects hain)\n",
    "print(x is z)  # True (kyunki z, x ka reference hai)\n",
    "print(x is not y)  # True\n"
   ]
  },
  {
   "cell_type": "markdown",
   "metadata": {},
   "source": [
    "✅ Membership Operators (in, not in)                  \n",
    "Yeh check karte hain ki ek value kisi sequence (list, string, etc.) me hai ya nahi."
   ]
  },
  {
   "cell_type": "code",
   "execution_count": 7,
   "metadata": {},
   "outputs": [
    {
     "name": "stdout",
     "output_type": "stream",
     "text": [
      "True\n",
      "True\n"
     ]
    }
   ],
   "source": [
    "numbers = [10, 20, 30, 40]             \n",
    "\n",
    "print(20 in numbers)    # True\n",
    "print(50 not in numbers) # True\n"
   ]
  },
  {
   "cell_type": "markdown",
   "metadata": {},
   "source": []
  }
 ],
 "metadata": {
  "kernelspec": {
   "display_name": "Python 3",
   "language": "python",
   "name": "python3"
  },
  "language_info": {
   "codemirror_mode": {
    "name": "ipython",
    "version": 3
   },
   "file_extension": ".py",
   "mimetype": "text/x-python",
   "name": "python",
   "nbconvert_exporter": "python",
   "pygments_lexer": "ipython3",
   "version": "3.9.7"
  }
 },
 "nbformat": 4,
 "nbformat_minor": 2
}
