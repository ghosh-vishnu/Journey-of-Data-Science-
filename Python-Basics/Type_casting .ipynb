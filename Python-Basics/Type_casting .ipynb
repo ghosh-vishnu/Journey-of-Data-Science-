{
 "cells": [
  {
   "cell_type": "markdown",
   "metadata": {},
   "source": [
    "### Type Casting in Python\n",
    "Type Casting ka matlab hota hai ek data type ko doosre data type me convert karna. Python me Implicit (Auto) & Explicit (Manual) Type Casting hoti hai."
   ]
  },
  {
   "cell_type": "markdown",
   "metadata": {},
   "source": [
    "🔹 1. Implicit Type Casting (Python khud kar deta hai)     \n",
    "✅ Jab Python automatically ek chhote data type ko bade data type me convert kar deta hai.   "
   ]
  },
  {
   "cell_type": "code",
   "execution_count": 1,
   "metadata": {},
   "outputs": [
    {
     "name": "stdout",
     "output_type": "stream",
     "text": [
      "7.5\n",
      "<class 'float'>\n"
     ]
    }
   ],
   "source": [
    "a = 5       # Integer\n",
    "b = 2.5     # Float\n",
    "\n",
    "c = a + b   # Python integer ko float me convert kar dega\n",
    "print(c)    # 7.5 (Float)\n",
    "print(type(c))  # <class 'float'>\n"
   ]
  },
  {
   "cell_type": "code",
   "execution_count": 2,
   "metadata": {},
   "outputs": [
    {
     "name": "stdout",
     "output_type": "stream",
     "text": [
      "(13+2j)\n",
      "<class 'complex'>\n"
     ]
    }
   ],
   "source": [
    "# ✅ Example 2: Integer → Complex Number\n",
    "x = 10\n",
    "y = 3 + 2j  # Complex number\n",
    "\n",
    "z = x + y   # Python integer ko complex me convert karega\n",
    "print(z)    # (13+2j)\n",
    "print(type(z))  # <class 'complex'>\n"
   ]
  },
  {
   "cell_type": "markdown",
   "metadata": {},
   "source": [
    "### 🔹 2. Explicit Type Casting (Manual)\n",
    "✅ Kabhi-kabhi hume khud se type convert karna padta hai, uske liye ye functions use hote hain:\n",
    "\n",
    "Function\tConversion   \n",
    "int(x)------------------Integer me convert karega  \n",
    "float(x)---------------\tFloat me convert karega   \n",
    "str(x)------------------String me convert karega  \n",
    "list(x)----------------\tList me convert karega  \n",
    "tuple(x)---------------\tTuple me convert karega   \n",
    "set(x)--------------\tSet me convert karega  "
   ]
  },
  {
   "cell_type": "code",
   "execution_count": 3,
   "metadata": {},
   "outputs": [
    {
     "name": "stdout",
     "output_type": "stream",
     "text": [
      "10.0\n",
      "99\n",
      "25\n",
      "<class 'str'>\n",
      "123\n",
      "(1, 2, 3, 4)\n",
      "[1, 2, 3, 4]\n",
      "{1, 2, 3, 4, 5}\n"
     ]
    }
   ],
   "source": [
    "# Integer se Float\n",
    "num = 10\n",
    "num_float = float(num)\n",
    "print(num_float)  # 10.0\n",
    "\n",
    "# Float se Integer\n",
    "price = 99.99\n",
    "price_int = int(price)\n",
    "print(price_int)  # 99\n",
    "\n",
    "# Number se String\n",
    "age = 25\n",
    "age_str = str(age)\n",
    "print(age_str)  # \"25\"\n",
    "print(type(age_str))  # <class 'str'>\n",
    "\n",
    "# String se Integer (Agar string number ho)\n",
    "num_str = \"123\"\n",
    "num_int = int(num_str)\n",
    "print(num_int)  # 123\n",
    "\n",
    "# List se Tuple\n",
    "my_list = [1, 2, 3, 4]\n",
    "my_tuple = tuple(my_list)\n",
    "print(my_tuple)  # (1, 2, 3, 4)\n",
    "\n",
    "# Tuple se List\n",
    "my_new_list = list(my_tuple)\n",
    "print(my_new_list)  # [1, 2, 3, 4]\n",
    "\n",
    "# List se Set (Duplicates hat jayenge)\n",
    "numbers = [1, 2, 2, 3, 4, 4, 5]\n",
    "num_set = set(numbers)\n",
    "print(num_set)  # {1, 2, 3, 4, 5}\n"
   ]
  },
  {
   "cell_type": "markdown",
   "metadata": {},
   "source": [
    "### Real-Life Example"
   ]
  },
  {
   "cell_type": "code",
   "execution_count": 4,
   "metadata": {},
   "outputs": [
    {
     "name": "stdout",
     "output_type": "stream",
     "text": [
      "Your age after 5 years: 59\n"
     ]
    }
   ],
   "source": [
    "# User se input lena (hamesha string aata hai)\n",
    "user_age = input(\"Enter your age: \")  # Example: \"25\"\n",
    "\n",
    "# String se Integer me convert karna\n",
    "user_age_int = int(user_age)\n",
    "\n",
    "# Age + 5 years ka calculation\n",
    "future_age = user_age_int + 5\n",
    "print(\"Your age after 5 years:\", future_age)"
   ]
  },
  {
   "cell_type": "code",
   "execution_count": null,
   "metadata": {},
   "outputs": [],
   "source": []
  }
 ],
 "metadata": {
  "kernelspec": {
   "display_name": "Python 3",
   "language": "python",
   "name": "python3"
  },
  "language_info": {
   "codemirror_mode": {
    "name": "ipython",
    "version": 3
   },
   "file_extension": ".py",
   "mimetype": "text/x-python",
   "name": "python",
   "nbconvert_exporter": "python",
   "pygments_lexer": "ipython3",
   "version": "3.9.7"
  }
 },
 "nbformat": 4,
 "nbformat_minor": 2
}
