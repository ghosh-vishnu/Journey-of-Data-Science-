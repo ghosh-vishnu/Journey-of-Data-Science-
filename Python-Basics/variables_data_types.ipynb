{
 "cells": [
  {
   "cell_type": "markdown",
   "metadata": {
    "vscode": {
     "languageId": "plaintext"
    }
   },
   "source": [
    "### Variables & Data Types in Python\n",
    "Variables ek container hote hain jo values store karte hain. Python dynamically typed language hai, matlab hume explicitly data type declare nahi karna padta.\n",
    "\n",
    "🔹 1. Variables in Python    \n",
    "✅ Variable banane ke liye = (assignment operator) use hota hai.     \n",
    "✅ Variable ka naam letter ya underscore (_) se start hona chahiye (number se nahi).     \n",
    "✅ Python case-sensitive hai (name aur Name alag hai).   "
   ]
  },
  {
   "cell_type": "code",
   "execution_count": 2,
   "metadata": {},
   "outputs": [
    {
     "name": "stdout",
     "output_type": "stream",
     "text": [
      "Vishnu\n",
      "25\n",
      "99.99\n",
      "True\n"
     ]
    }
   ],
   "source": [
    "# Variables ka example\n",
    "name = \"Vishnu\"  # String\n",
    "age = 25         # Integer\n",
    "price = 99.99    # Float\n",
    "is_student = True  # Boolean\n",
    "\n",
    "print(name)\n",
    "print(age)\n",
    "print(price)\n",
    "print(is_student)\n"
   ]
  },
  {
   "cell_type": "markdown",
   "metadata": {},
   "source": [
    "🔹 2. Python Data Types      \n",
    "Python me har variable ka ek data type hota hai. Important data types:\n",
    "Data Type\tExample\n",
    "int (Integer)\tx = 10   \n",
    "float (Decimal)\ty = 10.5   \n",
    "str (String)\tname = \"Vishnu\"    \n",
    "bool (Boolean)\tis_valid = True   \n",
    "list (Mutable, ordered)\tfruits = [\"Apple\", \"Banana\"]   \n",
    "tuple (Immutable, ordered)\tcoordinates = (10, 20)   \n",
    "dict (Key-Value Pairs)\tperson = {\"name\": \"Vishnu\", \"age\": 25}  \n",
    "set (Unique values)\tunique_nums = {1, 2, 3, 4}   "
   ]
  },
  {
   "cell_type": "markdown",
   "metadata": {},
   "source": [
    "### Example Code (All Data Types)"
   ]
  },
  {
   "cell_type": "code",
   "execution_count": 3,
   "metadata": {},
   "outputs": [
    {
     "name": "stdout",
     "output_type": "stream",
     "text": [
      "Integer: 25\n",
      "Float: 5.9\n",
      "String: Vishnu\n",
      "Boolean: True\n",
      "List: ['Apple', 'Mango', 'Banana']\n",
      "Tuple: ('Red', 'Green', 'Blue')\n",
      "Dictionary: {'name': 'Vishnu', 'age': 25, 'city': 'Noida'}\n",
      "Set: {1, 2, 3, 4, 5}\n"
     ]
    }
   ],
   "source": [
    "# Integer\n",
    "age = 25\n",
    "\n",
    "# Float\n",
    "height = 5.9\n",
    "\n",
    "# String\n",
    "name = \"Vishnu\"\n",
    "\n",
    "# Boolean\n",
    "is_coder = True\n",
    "\n",
    "# List (Mutable - Changeable)\n",
    "fruits = [\"Apple\", \"Mango\", \"Banana\"]\n",
    "\n",
    "# Tuple (Immutable - Can't change values)\n",
    "colors = (\"Red\", \"Green\", \"Blue\")\n",
    "\n",
    "# Dictionary (Key-Value Pairs)\n",
    "student = {\"name\": \"Vishnu\", \"age\": 25, \"city\": \"Noida\"}\n",
    "\n",
    "# Set (Unique values, Unordered)\n",
    "unique_numbers = {1, 2, 3, 4, 4, 5}\n",
    "\n",
    "# Printing all variables\n",
    "print(\"Integer:\", age)\n",
    "print(\"Float:\", height)\n",
    "print(\"String:\", name)\n",
    "print(\"Boolean:\", is_coder)\n",
    "print(\"List:\", fruits)\n",
    "print(\"Tuple:\", colors)\n",
    "print(\"Dictionary:\", student)\n",
    "print(\"Set:\", unique_numbers)\n"
   ]
  }
 ],
 "metadata": {
  "kernelspec": {
   "display_name": "Python 3",
   "language": "python",
   "name": "python3"
  },
  "language_info": {
   "codemirror_mode": {
    "name": "ipython",
    "version": 3
   },
   "file_extension": ".py",
   "mimetype": "text/x-python",
   "name": "python",
   "nbconvert_exporter": "python",
   "pygments_lexer": "ipython3",
   "version": "3.9.7"
  }
 },
 "nbformat": 4,
 "nbformat_minor": 2
}
