{
 "cells": [
  {
   "cell_type": "markdown",
   "metadata": {},
   "source": [
    "#### Loops in Python"
   ]
  },
  {
   "cell_type": "markdown",
   "metadata": {},
   "source": [
    "Python me 2 types ke loops hote hain:     \n",
    "1️⃣ for loop → Jab hume fixed number of iterations pata ho.    \n",
    "2️⃣ while loop → Jab hume loop kab tak chalega yeh nahi pata.    "
   ]
  },
  {
   "cell_type": "markdown",
   "metadata": {},
   "source": [
    "##### 🔹 1. for Loop (Jab iteration fix ho)"
   ]
  },
  {
   "cell_type": "code",
   "execution_count": 1,
   "metadata": {},
   "outputs": [
    {
     "name": "stdout",
     "output_type": "stream",
     "text": [
      "Hello World!\n",
      "Hello World!\n",
      "Hello World!\n",
      "Hello World!\n",
      "Hello World!\n"
     ]
    }
   ],
   "source": [
    "for i in range(5):\n",
    "    print(\"Hello World!\")\n"
   ]
  },
  {
   "cell_type": "markdown",
   "metadata": {},
   "source": [
    "#### 🔹 range() function ka use:"
   ]
  },
  {
   "cell_type": "code",
   "execution_count": 2,
   "metadata": {},
   "outputs": [
    {
     "name": "stdout",
     "output_type": "stream",
     "text": [
      "1\n",
      "2\n",
      "3\n",
      "4\n",
      "5\n"
     ]
    }
   ],
   "source": [
    "for i in range(1, 6):  # 1 se lekar 5 tak chalega\n",
    "    print(i)\n"
   ]
  },
  {
   "cell_type": "markdown",
   "metadata": {},
   "source": [
    "### 🔹 2. while Loop (Jab end condition na pata ho)"
   ]
  },
  {
   "cell_type": "code",
   "execution_count": 3,
   "metadata": {},
   "outputs": [
    {
     "name": "stdout",
     "output_type": "stream",
     "text": [
      "Count: 1\n",
      "Count: 2\n",
      "Count: 3\n",
      "Count: 4\n",
      "Count: 5\n"
     ]
    }
   ],
   "source": [
    "count = 1\n",
    "while count <= 5:\n",
    "    print(\"Count:\", count)\n",
    "    count += 1\n"
   ]
  },
  {
   "cell_type": "markdown",
   "metadata": {},
   "source": [
    "##### 🔹 3. Loop Control Statements    \n",
    "Kuch special keywords hote hain jo loop ko control karte hain:      \n",
    "  \n",
    "Keyword\t               Use       \n",
    "break----------------Loop ko forcefully stop kar deta hai             \n",
    "continue----------- Current iteration skip karta hai, loop continue rehta hai    \n",
    "pass--------------- Empty statement, error avoid karne ke liye      \n"
   ]
  },
  {
   "cell_type": "code",
   "execution_count": 7,
   "metadata": {},
   "outputs": [
    {
     "name": "stdout",
     "output_type": "stream",
     "text": [
      "0\n",
      "1\n",
      "2\n",
      "3\n",
      "4\n"
     ]
    }
   ],
   "source": [
    "# ✅ break Example: (Loop ko beech me rokna)\n",
    "\n",
    "for i in range(10):\n",
    "    if i == 5:\n",
    "        break\n",
    "    print(i)\n",
    "\n"
   ]
  },
  {
   "cell_type": "code",
   "execution_count": 8,
   "metadata": {},
   "outputs": [
    {
     "name": "stdout",
     "output_type": "stream",
     "text": [
      "0\n",
      "1\n",
      "3\n",
      "4\n"
     ]
    }
   ],
   "source": [
    "# ✅ continue Example: (Ek iteration skip karna)\n",
    "\n",
    "for i in range(5):\n",
    "    if i == 2:\n",
    "        continue\n",
    "    print(i)\n",
    "\n"
   ]
  },
  {
   "cell_type": "code",
   "execution_count": 9,
   "metadata": {},
   "outputs": [
    {
     "name": "stdout",
     "output_type": "stream",
     "text": [
      "0\n",
      "1\n",
      "2\n",
      "3\n",
      "4\n"
     ]
    }
   ],
   "source": [
    "# ✅ pass Example: (Kuch bhi mat karo)\n",
    "for i in range(5):\n",
    "    if i == 2:\n",
    "        pass  # Yeh kuch nahi karega\n",
    "    print(i)\n"
   ]
  },
  {
   "cell_type": "code",
   "execution_count": 11,
   "metadata": {},
   "outputs": [
    {
     "name": "stdout",
     "output_type": "stream",
     "text": [
      "1 1\n",
      "1 2\n",
      "1 3\n",
      "2 1\n",
      "2 2\n",
      "2 3\n",
      "3 1\n",
      "3 2\n",
      "3 3\n"
     ]
    }
   ],
   "source": [
    "## 🔹 4. Nested Loops (Loop ke andar loop)\n",
    "for i in range(1, 4):  # Outer Loop\n",
    "    for j in range(1, 4):  # Inner Loop\n",
    "        print(i, j)\n",
    "\n"
   ]
  },
  {
   "cell_type": "markdown",
   "metadata": {},
   "source": [
    "#### Star Patterns in Python"
   ]
  },
  {
   "cell_type": "markdown",
   "metadata": {},
   "source": [
    "##### 🔹 1. Simple Triangle (Right-Angled)\n"
   ]
  },
  {
   "cell_type": "code",
   "execution_count": 12,
   "metadata": {},
   "outputs": [
    {
     "name": "stdout",
     "output_type": "stream",
     "text": [
      "*\n",
      "**\n",
      "***\n",
      "****\n",
      "*****\n"
     ]
    }
   ],
   "source": [
    "rows = 5\n",
    "for i in range(1, rows + 1):\n",
    "    print(\"*\" * i)\n"
   ]
  },
  {
   "cell_type": "markdown",
   "metadata": {},
   "source": [
    "#### 🔹 2. Inverted Triangle"
   ]
  },
  {
   "cell_type": "code",
   "execution_count": 13,
   "metadata": {},
   "outputs": [
    {
     "name": "stdout",
     "output_type": "stream",
     "text": [
      "*****\n",
      "****\n",
      "***\n",
      "**\n",
      "*\n"
     ]
    }
   ],
   "source": [
    "rows = 5\n",
    "for i in range(rows, 0, -1):\n",
    "    print(\"*\" * i)\n"
   ]
  },
  {
   "cell_type": "markdown",
   "metadata": {},
   "source": [
    "### 🔹 3. Pyramid Pattern"
   ]
  },
  {
   "cell_type": "code",
   "execution_count": 15,
   "metadata": {},
   "outputs": [
    {
     "name": "stdout",
     "output_type": "stream",
     "text": [
      "    *\n",
      "   ***\n",
      "  *****\n",
      " *******\n",
      "*********\n"
     ]
    }
   ],
   "source": [
    "rows = 5\n",
    "for i in range(1, rows + 1):\n",
    "    print(\" \" * (rows - i) + \"*\" * (2 * i - 1))\n"
   ]
  },
  {
   "cell_type": "code",
   "execution_count": 17,
   "metadata": {},
   "outputs": [
    {
     "name": "stdout",
     "output_type": "stream",
     "text": [
      "*********\n",
      " *******\n",
      "  *****\n",
      "   ***\n",
      "    *\n"
     ]
    }
   ],
   "source": [
    "#🔹 4. Inverted Pyramid\n",
    "rows = 5\n",
    "for i in range(rows, 0, -1):\n",
    "    print(\" \" * (rows - i) + \"*\" * (2 * i - 1))\n"
   ]
  },
  {
   "cell_type": "markdown",
   "metadata": {},
   "source": [
    "### 🔹 5. Diamond Pattern"
   ]
  },
  {
   "cell_type": "code",
   "execution_count": 18,
   "metadata": {},
   "outputs": [
    {
     "name": "stdout",
     "output_type": "stream",
     "text": [
      "    *\n",
      "   ***\n",
      "  *****\n",
      " *******\n",
      "*********\n",
      " *******\n",
      "  *****\n",
      "   ***\n",
      "    *\n"
     ]
    }
   ],
   "source": [
    "rows = 5\n",
    "for i in range(1, rows + 1):\n",
    "    print(\" \" * (rows - i) + \"*\" * (2 * i - 1))\n",
    "for i in range(rows - 1, 0, -1):\n",
    "    print(\" \" * (rows - i) + \"*\" * (2 * i - 1))\n"
   ]
  },
  {
   "cell_type": "markdown",
   "metadata": {},
   "source": [
    "### 🔹 6. Hollow Square"
   ]
  },
  {
   "cell_type": "code",
   "execution_count": 20,
   "metadata": {},
   "outputs": [
    {
     "name": "stdout",
     "output_type": "stream",
     "text": [
      "*****\n",
      "*   *\n",
      "*   *\n",
      "*   *\n",
      "*****\n"
     ]
    }
   ],
   "source": [
    "rows = 5\n",
    "cols = 5\n",
    "for i in range(rows):\n",
    "    for j in range(cols):\n",
    "        if i == 0 or i == rows - 1 or j == 0 or j == cols - 1:\n",
    "            print(\"*\", end=\"\")\n",
    "        else:\n",
    "            print(\" \", end=\"\")\n",
    "    print()\n"
   ]
  },
  {
   "cell_type": "markdown",
   "metadata": {},
   "source": [
    "### 🔹 7. Hollow Pyramid"
   ]
  },
  {
   "cell_type": "code",
   "execution_count": 21,
   "metadata": {},
   "outputs": [
    {
     "name": "stdout",
     "output_type": "stream",
     "text": [
      "    *    \n",
      "   * *   \n",
      "  *   *  \n",
      " *     * \n",
      "*********\n"
     ]
    }
   ],
   "source": [
    "rows = 5\n",
    "for i in range(1, rows + 1):\n",
    "    for j in range(1, 2 * rows):\n",
    "        if i == rows or j == rows - i + 1 or j == rows + i - 1:\n",
    "            print(\"*\", end=\"\")\n",
    "        else:\n",
    "            print(\" \", end=\"\")\n",
    "    print()\n"
   ]
  },
  {
   "cell_type": "markdown",
   "metadata": {},
   "source": [
    "### 🔹 8. Floyd’s Triangle"
   ]
  },
  {
   "cell_type": "code",
   "execution_count": 22,
   "metadata": {},
   "outputs": [
    {
     "name": "stdout",
     "output_type": "stream",
     "text": [
      "1 \n",
      "2 3 \n",
      "4 5 6 \n",
      "7 8 9 10 \n",
      "11 12 13 14 15 \n"
     ]
    }
   ],
   "source": [
    "rows = 5\n",
    "num = 1\n",
    "for i in range(1, rows + 1):\n",
    "    for j in range(1, i + 1):\n",
    "        print(num, end=\" \")\n",
    "        num += 1\n",
    "    print()\n"
   ]
  },
  {
   "cell_type": "markdown",
   "metadata": {},
   "source": [
    "### 🔹 9. Pascal’s Triangle"
   ]
  },
  {
   "cell_type": "code",
   "execution_count": 23,
   "metadata": {},
   "outputs": [
    {
     "name": "stdout",
     "output_type": "stream",
     "text": [
      "      1 \n",
      "     1 1 \n",
      "    1 2 1 \n",
      "   1 3 3 1 \n",
      "  1 4 6 4 1 \n"
     ]
    }
   ],
   "source": [
    "from math import factorial\n",
    "\n",
    "rows = 5\n",
    "for i in range(rows):\n",
    "    for j in range(rows - i + 1):\n",
    "        print(\" \", end=\"\")  # Spacing\n",
    "    \n",
    "    for j in range(i + 1):\n",
    "        print(factorial(i) // (factorial(j) * factorial(i - j)), end=\" \")\n",
    "    print()\n"
   ]
  },
  {
   "cell_type": "markdown",
   "metadata": {},
   "source": [
    "### 🔹 4. Hollow Diamond Pattern"
   ]
  },
  {
   "cell_type": "code",
   "execution_count": 24,
   "metadata": {},
   "outputs": [
    {
     "name": "stdout",
     "output_type": "stream",
     "text": [
      "    *\n",
      "   * *\n",
      "  *   *\n",
      " *     *\n",
      "*       *\n",
      " *     *\n",
      "  *   *\n",
      "   * *\n",
      "    *\n"
     ]
    }
   ],
   "source": [
    "rows = 5\n",
    "for i in range(1, rows + 1):\n",
    "    for j in range(rows - i):\n",
    "        print(\" \", end=\"\")\n",
    "    for j in range(2 * i - 1):\n",
    "        if j == 0 or j == 2 * i - 2:\n",
    "            print(\"*\", end=\"\")\n",
    "        else:\n",
    "            print(\" \", end=\"\")\n",
    "    print()\n",
    "for i in range(rows - 1, 0, -1):\n",
    "    for j in range(rows - i):\n",
    "        print(\" \", end=\"\")\n",
    "    for j in range(2 * i - 1):\n",
    "        if j == 0 or j == 2 * i - 2:\n",
    "            print(\"*\", end=\"\")\n",
    "        else:\n",
    "            print(\" \", end=\"\")\n",
    "    print()\n"
   ]
  },
  {
   "cell_type": "markdown",
   "metadata": {},
   "source": [
    "### 🔹 5. Butterfly Pattern"
   ]
  },
  {
   "cell_type": "code",
   "execution_count": 25,
   "metadata": {},
   "outputs": [
    {
     "name": "stdout",
     "output_type": "stream",
     "text": [
      "*        *\n",
      "**      **\n",
      "***    ***\n",
      "****  ****\n",
      "**********\n",
      "****  ****\n",
      "***    ***\n",
      "**      **\n",
      "*        *\n"
     ]
    }
   ],
   "source": [
    "rows = 5\n",
    "for i in range(1, rows + 1):\n",
    "    print(\"*\" * i + \" \" * (2 * (rows - i)) + \"*\" * i)\n",
    "for i in range(rows - 1, 0, -1):\n",
    "    print(\"*\" * i + \" \" * (2 * (rows - i)) + \"*\" * i)\n"
   ]
  },
  {
   "cell_type": "code",
   "execution_count": 26,
   "metadata": {},
   "outputs": [
    {
     "name": "stdout",
     "output_type": "stream",
     "text": [
      "       ____________________  \n",
      "      |                    | \n",
      "      |   [  Code Mode 🖥 ]  | \n",
      "      |____________________| \n",
      "       / / / / / / / / / /  \n",
      "      /_/ /_/ /_/ /_/ /_/   \n",
      "     (____________________)  \n"
     ]
    }
   ],
   "source": [
    "pattern = [\n",
    "    \"       ____________________  \",\n",
    "    \"      |                    | \",\n",
    "    \"      |   [  Code Mode 🖥 ]  | \",\n",
    "    \"      |____________________| \",\n",
    "    \"       / / / / / / / / / /  \",\n",
    "    \"      /_/ /_/ /_/ /_/ /_/   \",\n",
    "    \"     (____________________)  \"\n",
    "]\n",
    "\n",
    "for line in pattern:\n",
    "    print(line)\n"
   ]
  },
  {
   "cell_type": "code",
   "execution_count": 27,
   "metadata": {},
   "outputs": [
    {
     "name": "stdout",
     "output_type": "stream",
     "text": [
      "        *****        \n",
      "      ** 🍏🍏 **      \n",
      "     * 🍏🍏🍏🍏 *     \n",
      "    * 🍏🍏🍏🍏🍏 *    \n",
      "    * 🍏🍏🍏🍏🍏 *    \n",
      "    *    🍏🍏    *    \n",
      "     *   🍏🍏   *     \n",
      "      *       *      \n",
      "       *     *       \n",
      "        *****        \n",
      "         ***         \n",
      "         ***         \n"
     ]
    }
   ],
   "source": [
    "pattern = [\n",
    "    \"        *****        \",\n",
    "    \"      ** 🍏🍏 **      \",\n",
    "    \"     * 🍏🍏🍏🍏 *     \",\n",
    "    \"    * 🍏🍏🍏🍏🍏 *    \",\n",
    "    \"    * 🍏🍏🍏🍏🍏 *    \",\n",
    "    \"    *    🍏🍏    *    \",\n",
    "    \"     *   🍏🍏   *     \",\n",
    "    \"      *       *      \",\n",
    "    \"       *     *       \",\n",
    "    \"        *****        \",\n",
    "    \"         ***         \",\n",
    "    \"         ***         \"\n",
    "]\n",
    "\n",
    "for line in pattern:\n",
    "    print(line)\n"
   ]
  },
  {
   "cell_type": "code",
   "execution_count": null,
   "metadata": {},
   "outputs": [],
   "source": []
  }
 ],
 "metadata": {
  "kernelspec": {
   "display_name": "Python 3",
   "language": "python",
   "name": "python3"
  },
  "language_info": {
   "codemirror_mode": {
    "name": "ipython",
    "version": 3
   },
   "file_extension": ".py",
   "mimetype": "text/x-python",
   "name": "python",
   "nbconvert_exporter": "python",
   "pygments_lexer": "ipython3",
   "version": "3.9.7"
  }
 },
 "nbformat": 4,
 "nbformat_minor": 2
}
